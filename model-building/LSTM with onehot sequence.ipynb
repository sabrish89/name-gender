{
 "cells": [
  {
   "cell_type": "code",
   "execution_count": 1,
   "metadata": {},
   "outputs": [],
   "source": [
    "import numpy as np\n",
    "import matplotlib.pyplot as plt\n",
    "from collections import Counter\n",
    "from more_itertools import padded\n",
    "import sys\n",
    "import math\n",
    "\n",
    "from IPython.display import Markdown as md"
   ]
  },
  {
   "cell_type": "markdown",
   "metadata": {},
   "source": [
    "## Read Data"
   ]
  },
  {
   "cell_type": "code",
   "execution_count": 2,
   "metadata": {},
   "outputs": [],
   "source": [
    "names = []\n",
    "nameasc = []\n",
    "genders = []\n",
    "probs = []\n",
    "maxlen = 0\n",
    "\n",
    "f = open(\"name_gender.csv\")\n",
    "data = f.readlines()\n",
    "f.close()\n",
    "for line in data:\n",
    "    name, gender, prob = line.split(',')\n",
    "    names.append(name.lower())\n",
    "    if name.__len__() > maxlen:\n",
    "        maxlen = name.__len__()\n",
    "    nameasc.append([ord(ch) for ch in name.lower()])\n",
    "    genders.append([1,0] if gender == 'M' else [0,1])\n",
    "    probs.append(np.float16(prob.strip(\"\\n\")))"
   ]
  },
  {
   "cell_type": "markdown",
   "metadata": {},
   "source": [
    "cleanup"
   ]
  },
  {
   "cell_type": "code",
   "execution_count": 3,
   "metadata": {},
   "outputs": [],
   "source": [
    "del name, data, gender, prob\n",
    "nameasc_ = nameasc.copy()"
   ]
  },
  {
   "cell_type": "markdown",
   "metadata": {},
   "source": [
    "## Arrayfy"
   ]
  },
  {
   "cell_type": "code",
   "execution_count": 4,
   "metadata": {},
   "outputs": [],
   "source": [
    "names = np.array(names)\n",
    "genders = np.array(genders, dtype=np.int8)\n",
    "probs = np.array(probs, dtype=np.float16)"
   ]
  },
  {
   "cell_type": "markdown",
   "metadata": {},
   "source": [
    "## Check alphabets"
   ]
  },
  {
   "cell_type": "code",
   "execution_count": 5,
   "metadata": {},
   "outputs": [],
   "source": [
    "alphabetsMale = ''\n",
    "alphabetsFeml = ''\n",
    "for name,gender in zip(names,genders):\n",
    "    if gender[0] > 0:\n",
    "        alphabetsMale += name\n",
    "    else:\n",
    "        alphabetsFeml += name\n",
    "alphabetsFeml = Counter(alphabetsFeml)\n",
    "alphabetsMale = Counter(alphabetsMale)"
   ]
  },
  {
   "cell_type": "markdown",
   "metadata": {},
   "source": [
    "Plot vowels"
   ]
  },
  {
   "cell_type": "code",
   "execution_count": 6,
   "metadata": {},
   "outputs": [],
   "source": [
    "vowels = ['a','e','i','o','u']\n",
    "maleVowel = {key: alphabetsMale[key] for key in alphabetsMale.keys() if key in vowels}\n",
    "maleVowel = {key: maleVowel[key] / sum(maleVowel.values()) for key in maleVowel.keys()}\n",
    "femlVowel = {key: alphabetsFeml[key] for key in alphabetsFeml.keys() if key in vowels}\n",
    "femlVowel = {key: femlVowel[key] / sum(femlVowel.values()) for key in femlVowel.keys()}"
   ]
  },
  {
   "cell_type": "code",
   "execution_count": 7,
   "metadata": {},
   "outputs": [
    {
     "data": {
      "text/plain": [
       "({'a': 0.3300480190701033,\n",
       "  'i': 0.1854292492292882,\n",
       "  'e': 0.25851221105470046,\n",
       "  'o': 0.1571335251040031,\n",
       "  'u': 0.06887699554190495},\n",
       " {'a': 0.4347808988764045,\n",
       "  'i': 0.2093876404494382,\n",
       "  'e': 0.2628595505617978,\n",
       "  'o': 0.06066292134831461,\n",
       "  'u': 0.03230898876404494})"
      ]
     },
     "execution_count": 7,
     "metadata": {},
     "output_type": "execute_result"
    }
   ],
   "source": [
    "maleVowel, femlVowel"
   ]
  },
  {
   "cell_type": "code",
   "execution_count": 8,
   "metadata": {},
   "outputs": [
    {
     "data": {
      "image/png": "[encoded data removed]",
      "text/plain": [
       "<Figure size 432x288 with 1 Axes>"
      ]
     },
     "metadata": {
      "needs_background": "light"
     },
     "output_type": "display_data"
    }
   ],
   "source": [
    "x = np.arange(len(maleVowel.keys()))\n",
    "width = 0.35\n",
    "fig, ax = plt.subplots()\n",
    "rects1 = ax.bar(x - width/2, maleVowel.values(), width, label='M')\n",
    "rects2 = ax.bar(x + width/2, femlVowel.values(), width, label='F')\n",
    "ax.set_ylabel('Vowel Frequency')\n",
    "ax.set_title('By gender')\n",
    "ax.set_xticks(x)\n",
    "ax.set_xticklabels(maleVowel.keys())\n",
    "ax.legend()\n",
    "plt.show()"
   ]
  },
  {
   "cell_type": "markdown",
   "metadata": {},
   "source": [
    "Females has more vowels of type a,i,e in her names while males has more vowels of type o,u in his name<br/>\n",
    "We can do much more analysis. This is just an introduction. But the intention here is to build a model"
   ]
  },
  {
   "cell_type": "markdown",
   "metadata": {},
   "source": [
    "cleanup"
   ]
  },
  {
   "cell_type": "code",
   "execution_count": 9,
   "metadata": {},
   "outputs": [],
   "source": [
    "del vowels, maleVowel, femlVowel, x, width, fig, ax, name, gender"
   ]
  },
  {
   "cell_type": "markdown",
   "metadata": {},
   "source": [
    "## Simple Features"
   ]
  },
  {
   "cell_type": "code",
   "execution_count": 10,
   "metadata": {},
   "outputs": [],
   "source": [
    "for idx in range(nameasc.__len__()):\n",
    "    nameasc[idx] = ( maxlen - nameasc[idx].__len__() ) * [0] + nameasc[idx]"
   ]
  },
  {
   "cell_type": "code",
   "execution_count": 11,
   "metadata": {},
   "outputs": [
    {
     "data": {
      "text/markdown": [
       "We see that 15 is the maximum name size. Thus we sequence a callback lookup for LSTM upto 15 alphabets"
      ],
      "text/plain": [
       "<IPython.core.display.Markdown object>"
      ]
     },
     "execution_count": 11,
     "metadata": {},
     "output_type": "execute_result"
    }
   ],
   "source": [
    "md(\"We see that %i is the maximum name size. Thus we sequence a callback lookup for LSTM upto 15 alphabets\"%(maxlen))"
   ]
  },
  {
   "cell_type": "code",
   "execution_count": 12,
   "metadata": {},
   "outputs": [],
   "source": [
    "nameasc = np.array(nameasc)"
   ]
  },
  {
   "cell_type": "code",
   "execution_count": 13,
   "metadata": {},
   "outputs": [
    {
     "data": {
      "text/plain": [
       "(97, 122)"
      ]
     },
     "execution_count": 13,
     "metadata": {},
     "output_type": "execute_result"
    }
   ],
   "source": [
    "nameasc[nameasc > 0].min(), nameasc[nameasc > 0].max()"
   ]
  },
  {
   "cell_type": "code",
   "execution_count": 14,
   "metadata": {},
   "outputs": [],
   "source": [
    "assert alphabetsFeml.__len__() == alphabetsMale.__len__()"
   ]
  },
  {
   "cell_type": "code",
   "execution_count": 15,
   "metadata": {},
   "outputs": [],
   "source": [
    "nameasc -= 96\n",
    "indx = (nameasc < 0)"
   ]
  },
  {
   "cell_type": "code",
   "execution_count": 16,
   "metadata": {},
   "outputs": [],
   "source": [
    "nameasc[indx] = 0"
   ]
  },
  {
   "cell_type": "code",
   "execution_count": 17,
   "metadata": {},
   "outputs": [
    {
     "data": {
      "text/plain": [
       "array([[ 0,  0,  0, ...,  2,  1, 14],\n",
       "       [ 0,  0,  0, ...,  2,  8,  1],\n",
       "       [ 0,  0,  0, ...,  2,  9,  4],\n",
       "       ...,\n",
       "       [ 0,  0,  0, ..., 14, 14,  1],\n",
       "       [ 0,  0,  0, ..., 25, 15, 14],\n",
       "       [ 0,  0,  0, ..., 25, 26, 24]])"
      ]
     },
     "execution_count": 17,
     "metadata": {},
     "output_type": "execute_result"
    }
   ],
   "source": [
    "nameasc"
   ]
  },
  {
   "cell_type": "code",
   "execution_count": 18,
   "metadata": {},
   "outputs": [
    {
     "data": {
      "text/plain": [
       "(95025, 15)"
      ]
     },
     "execution_count": 18,
     "metadata": {},
     "output_type": "execute_result"
    }
   ],
   "source": [
    "nameasc.shape"
   ]
  },
  {
   "cell_type": "markdown",
   "metadata": {},
   "source": [
    "We will now expand the 15 len rows to 27 * 15 tensor"
   ]
  },
  {
   "cell_type": "code",
   "execution_count": 19,
   "metadata": {},
   "outputs": [],
   "source": [
    "tensorasc = []\n",
    "for ascname in nameasc:\n",
    "    tensornm = []\n",
    "    for num in ascname:\n",
    "        tmparr = [0]*27\n",
    "        tmparr[num] = 1\n",
    "        tensornm.append(tmparr)\n",
    "    tensorasc.append(tensornm)\n",
    "tensorasc = np.array(tensorasc)"
   ]
  },
  {
   "cell_type": "code",
   "execution_count": 20,
   "metadata": {},
   "outputs": [
    {
     "data": {
      "text/plain": [
       "array([[[1, 0, 0, ..., 0, 0, 0],\n",
       "        [1, 0, 0, ..., 0, 0, 0],\n",
       "        [1, 0, 0, ..., 0, 0, 0],\n",
       "        ...,\n",
       "        [0, 0, 1, ..., 0, 0, 0],\n",
       "        [0, 1, 0, ..., 0, 0, 0],\n",
       "        [0, 0, 0, ..., 0, 0, 0]],\n",
       "\n",
       "       [[1, 0, 0, ..., 0, 0, 0],\n",
       "        [1, 0, 0, ..., 0, 0, 0],\n",
       "        [1, 0, 0, ..., 0, 0, 0],\n",
       "        ...,\n",
       "        [0, 0, 1, ..., 0, 0, 0],\n",
       "        [0, 0, 0, ..., 0, 0, 0],\n",
       "        [0, 1, 0, ..., 0, 0, 0]],\n",
       "\n",
       "       [[1, 0, 0, ..., 0, 0, 0],\n",
       "        [1, 0, 0, ..., 0, 0, 0],\n",
       "        [1, 0, 0, ..., 0, 0, 0],\n",
       "        ...,\n",
       "        [0, 0, 1, ..., 0, 0, 0],\n",
       "        [0, 0, 0, ..., 0, 0, 0],\n",
       "        [0, 0, 0, ..., 0, 0, 0]],\n",
       "\n",
       "       ...,\n",
       "\n",
       "       [[1, 0, 0, ..., 0, 0, 0],\n",
       "        [1, 0, 0, ..., 0, 0, 0],\n",
       "        [1, 0, 0, ..., 0, 0, 0],\n",
       "        ...,\n",
       "        [0, 0, 0, ..., 0, 0, 0],\n",
       "        [0, 0, 0, ..., 0, 0, 0],\n",
       "        [0, 1, 0, ..., 0, 0, 0]],\n",
       "\n",
       "       [[1, 0, 0, ..., 0, 0, 0],\n",
       "        [1, 0, 0, ..., 0, 0, 0],\n",
       "        [1, 0, 0, ..., 0, 0, 0],\n",
       "        ...,\n",
       "        [0, 0, 0, ..., 0, 1, 0],\n",
       "        [0, 0, 0, ..., 0, 0, 0],\n",
       "        [0, 0, 0, ..., 0, 0, 0]],\n",
       "\n",
       "       [[1, 0, 0, ..., 0, 0, 0],\n",
       "        [1, 0, 0, ..., 0, 0, 0],\n",
       "        [1, 0, 0, ..., 0, 0, 0],\n",
       "        ...,\n",
       "        [0, 0, 0, ..., 0, 1, 0],\n",
       "        [0, 0, 0, ..., 0, 0, 1],\n",
       "        [0, 0, 0, ..., 1, 0, 0]]])"
      ]
     },
     "execution_count": 20,
     "metadata": {},
     "output_type": "execute_result"
    }
   ],
   "source": [
    "tensorasc"
   ]
  },
  {
   "cell_type": "markdown",
   "metadata": {},
   "source": [
    "## Test Train Split"
   ]
  },
  {
   "cell_type": "code",
   "execution_count": 21,
   "metadata": {},
   "outputs": [],
   "source": [
    "np.random.seed(42)\n",
    "test_indices = np.random.choice(range(names.__len__()), math.ceil(0.3*names.__len__()), replace=False)"
   ]
  },
  {
   "cell_type": "code",
   "execution_count": 22,
   "metadata": {},
   "outputs": [],
   "source": [
    "vald_indices = np.random.choice(test_indices, math.ceil(0.5*test_indices.__len__()), replace=False)"
   ]
  },
  {
   "cell_type": "code",
   "execution_count": 23,
   "metadata": {},
   "outputs": [],
   "source": [
    "X_test = tensorasc[test_indices]\n",
    "Y_test = genders[test_indices]"
   ]
  },
  {
   "cell_type": "code",
   "execution_count": 24,
   "metadata": {},
   "outputs": [],
   "source": [
    "X_vald = tensorasc[vald_indices]\n",
    "Y_vald = genders[vald_indices]"
   ]
  },
  {
   "cell_type": "code",
   "execution_count": 25,
   "metadata": {},
   "outputs": [],
   "source": [
    "train_indices = np.ones(names.__len__(), dtype=bool)\n",
    "train_indices[test_indices] = False\n",
    "X_train = tensorasc[train_indices]\n",
    "Y_train = genders[train_indices]"
   ]
  },
  {
   "cell_type": "markdown",
   "metadata": {},
   "source": [
    "## Model"
   ]
  },
  {
   "cell_type": "code",
   "execution_count": 2,
   "metadata": {},
   "outputs": [
    {
     "name": "stderr",
     "output_type": "stream",
     "text": [
      "Using TensorFlow backend.\n"
     ]
    }
   ],
   "source": [
    "from keras.layers.core import Dense, Activation, Dropout\n",
    "from keras.preprocessing import sequence\n",
    "from keras.models import Sequential\n",
    "from keras.layers import Dense, Embedding\n",
    "from keras.layers import LSTM\n",
    "from keras.callbacks import EarlyStopping"
   ]
  },
  {
   "cell_type": "code",
   "execution_count": 27,
   "metadata": {},
   "outputs": [],
   "source": [
    "model = Sequential()\n",
    "model.add(LSTM(270, return_sequences=False, input_shape=(15, 27)))\n",
    "model.add(Dropout(0.15))\n",
    "model.add(Dense(units=2))\n",
    "model.add(Activation('softmax'))\n",
    "model.compile(loss='categorical_crossentropy', optimizer='adam', metrics=['acc'])"
   ]
  },
  {
   "cell_type": "code",
   "execution_count": 28,
   "metadata": {},
   "outputs": [
    {
     "name": "stdout",
     "output_type": "stream",
     "text": [
      "Train on 66517 samples, validate on 14254 samples\n",
      "Epoch 1/50\n",
      "66517/66517 [==============================] - 21s 313us/step - loss: 0.5537 - acc: 0.7082 - val_loss: 0.4182 - val_acc: 0.8093\n",
      "Epoch 2/50\n",
      "66517/66517 [==============================] - 20s 304us/step - loss: 0.3991 - acc: 0.8225 - val_loss: 0.3871 - val_acc: 0.8264\n",
      "Epoch 3/50\n",
      "66517/66517 [==============================] - 19s 292us/step - loss: 0.3810 - acc: 0.8314 - val_loss: 0.3745 - val_acc: 0.8325\n",
      "Epoch 4/50\n",
      "66517/66517 [==============================] - 18s 278us/step - loss: 0.3764 - acc: 0.8334 - val_loss: 0.3695 - val_acc: 0.8347\n",
      "Epoch 5/50\n",
      "66517/66517 [==============================] - 20s 302us/step - loss: 0.3690 - acc: 0.8367 - val_loss: 0.3696 - val_acc: 0.8337\n",
      "Epoch 6/50\n",
      "66517/66517 [==============================] - 19s 290us/step - loss: 0.3647 - acc: 0.8397 - val_loss: 0.3601 - val_acc: 0.8394\n",
      "Epoch 7/50\n",
      "66517/66517 [==============================] - 19s 280us/step - loss: 0.3572 - acc: 0.8426 - val_loss: 0.3511 - val_acc: 0.8437\n",
      "Epoch 8/50\n",
      "66517/66517 [==============================] - 21s 312us/step - loss: 0.3494 - acc: 0.8475 - val_loss: 0.3439 - val_acc: 0.8490\n",
      "Epoch 9/50\n",
      "66517/66517 [==============================] - 21s 312us/step - loss: 0.3418 - acc: 0.8520 - val_loss: 0.3370 - val_acc: 0.8503\n",
      "Epoch 10/50\n",
      "66517/66517 [==============================] - 19s 288us/step - loss: 0.3330 - acc: 0.8568 - val_loss: 0.3276 - val_acc: 0.8558\n",
      "Epoch 11/50\n",
      "66517/66517 [==============================] - 19s 286us/step - loss: 0.3257 - acc: 0.8599 - val_loss: 0.3186 - val_acc: 0.8619\n",
      "Epoch 12/50\n",
      "66517/66517 [==============================] - 19s 279us/step - loss: 0.3183 - acc: 0.8638 - val_loss: 0.3147 - val_acc: 0.8620\n",
      "Epoch 13/50\n",
      "66517/66517 [==============================] - 18s 277us/step - loss: 0.3116 - acc: 0.8665 - val_loss: 0.3113 - val_acc: 0.8638\n",
      "Epoch 14/50\n",
      "66517/66517 [==============================] - 19s 283us/step - loss: 0.3052 - acc: 0.8702 - val_loss: 0.2998 - val_acc: 0.8706\n",
      "Epoch 15/50\n",
      "66517/66517 [==============================] - 19s 283us/step - loss: 0.2980 - acc: 0.8729 - val_loss: 0.2984 - val_acc: 0.8718\n",
      "Epoch 16/50\n",
      "66517/66517 [==============================] - 19s 285us/step - loss: 0.2912 - acc: 0.8765 - val_loss: 0.2935 - val_acc: 0.8738\n",
      "Epoch 17/50\n",
      "66517/66517 [==============================] - 19s 286us/step - loss: 0.2850 - acc: 0.8792 - val_loss: 0.2890 - val_acc: 0.8744\n",
      "Epoch 18/50\n",
      "66517/66517 [==============================] - 20s 297us/step - loss: 0.2799 - acc: 0.8816 - val_loss: 0.2833 - val_acc: 0.8782\n",
      "Epoch 19/50\n",
      "66517/66517 [==============================] - 19s 291us/step - loss: 0.2748 - acc: 0.8844 - val_loss: 0.2837 - val_acc: 0.8775\n",
      "Epoch 20/50\n",
      "66517/66517 [==============================] - 19s 281us/step - loss: 0.2681 - acc: 0.8870 - val_loss: 0.2758 - val_acc: 0.8815\n",
      "Epoch 21/50\n",
      "66517/66517 [==============================] - 19s 278us/step - loss: 0.2635 - acc: 0.8893 - val_loss: 0.2716 - val_acc: 0.8836\n",
      "Epoch 22/50\n",
      "66517/66517 [==============================] - 19s 280us/step - loss: 0.2574 - acc: 0.8925 - val_loss: 0.2716 - val_acc: 0.8838\n",
      "Epoch 23/50\n",
      "66517/66517 [==============================] - 19s 281us/step - loss: 0.2539 - acc: 0.8942 - val_loss: 0.2699 - val_acc: 0.8847\n",
      "Epoch 24/50\n",
      "66517/66517 [==============================] - 18s 277us/step - loss: 0.2471 - acc: 0.8964 - val_loss: 0.2690 - val_acc: 0.8854\n",
      "Epoch 25/50\n",
      "66517/66517 [==============================] - 19s 278us/step - loss: 0.2418 - acc: 0.8992 - val_loss: 0.2716 - val_acc: 0.8849\n",
      "Epoch 26/50\n",
      "66517/66517 [==============================] - 19s 280us/step - loss: 0.2374 - acc: 0.9017 - val_loss: 0.2627 - val_acc: 0.8892\n",
      "Epoch 27/50\n",
      "66517/66517 [==============================] - 19s 286us/step - loss: 0.2322 - acc: 0.9038 - val_loss: 0.2628 - val_acc: 0.8880\n",
      "Epoch 28/50\n",
      "66517/66517 [==============================] - 19s 291us/step - loss: 0.2278 - acc: 0.9061 - val_loss: 0.2629 - val_acc: 0.8889\n",
      "Epoch 29/50\n",
      "66517/66517 [==============================] - 19s 283us/step - loss: 0.2216 - acc: 0.9077 - val_loss: 0.2587 - val_acc: 0.8903\n",
      "Epoch 30/50\n",
      "66517/66517 [==============================] - 19s 280us/step - loss: 0.2189 - acc: 0.9090 - val_loss: 0.2618 - val_acc: 0.8896\n",
      "Epoch 31/50\n",
      "66517/66517 [==============================] - 19s 279us/step - loss: 0.2119 - acc: 0.9125 - val_loss: 0.2580 - val_acc: 0.8905\n",
      "Epoch 32/50\n",
      "66517/66517 [==============================] - 19s 278us/step - loss: 0.2077 - acc: 0.9146 - val_loss: 0.2532 - val_acc: 0.8932\n",
      "Epoch 33/50\n",
      "66517/66517 [==============================] - 19s 281us/step - loss: 0.2034 - acc: 0.9161 - val_loss: 0.2618 - val_acc: 0.8913\n",
      "Epoch 34/50\n",
      "66517/66517 [==============================] - 19s 281us/step - loss: 0.1975 - acc: 0.9185 - val_loss: 0.2574 - val_acc: 0.8945\n",
      "Epoch 35/50\n",
      "66517/66517 [==============================] - 19s 281us/step - loss: 0.1946 - acc: 0.9197 - val_loss: 0.2596 - val_acc: 0.8933\n",
      "Restoring model weights from the end of the best epoch\n",
      "Epoch 00035: early stopping\n"
     ]
    }
   ],
   "source": [
    "callback = EarlyStopping(\n",
    "    monitor='val_loss', min_delta=0, patience=3, verbose=1,\n",
    "    mode='auto', baseline=None, restore_best_weights=True\n",
    ")\n",
    "history = model.fit(X_train, Y_train, batch_size=1000, epochs=50, validation_data=(X_vald, Y_vald), callbacks=[callback])"
   ]
  },
  {
   "cell_type": "code",
   "execution_count": 29,
   "metadata": {},
   "outputs": [],
   "source": [
    "y_pred = model.predict_classes(X_test)"
   ]
  },
  {
   "cell_type": "code",
   "execution_count": 30,
   "metadata": {},
   "outputs": [],
   "source": [
    "y_test = ( Y_test[:,1] > 0 ) * 1"
   ]
  },
  {
   "cell_type": "code",
   "execution_count": 31,
   "metadata": {},
   "outputs": [
    {
     "name": "stdout",
     "output_type": "stream",
     "text": [
      "[[ 9155  1295]\n",
      " [ 1693 16365]]\n"
     ]
    }
   ],
   "source": [
    "from sklearn.metrics import confusion_matrix, precision_score, recall_score, f1_score, accuracy_score\n",
    "print(confusion_matrix(y_test, y_pred))"
   ]
  },
  {
   "cell_type": "code",
   "execution_count": 32,
   "metadata": {},
   "outputs": [
    {
     "name": "stdout",
     "output_type": "stream",
     "text": [
      "Precision: 0.9266704416761042\n",
      "Recall:    0.9062465389301141\n",
      "F1:        0.9163447001511843\n",
      "Accuracy:  0.8951873158411674\n"
     ]
    }
   ],
   "source": [
    "print(f\"Precision: {precision_score(y_test, y_pred)}\\nRecall:    {recall_score(y_test,y_pred)}\\nF1:        {f1_score(y_test, y_pred)}\\nAccuracy:  {accuracy_score(y_test, y_pred)}\")"
   ]
  },
  {
   "cell_type": "code",
   "execution_count": 33,
   "metadata": {},
   "outputs": [],
   "source": [
    "model.save(\"assets\\models\\LSTMSimple\")"
   ]
  },
  {
   "cell_type": "code",
   "execution_count": 3,
   "metadata": {},
   "outputs": [],
   "source": [
    "from tensorflow.keras.models import load_model\n",
    "loadedModel = load_model(\"assets\\models\\LSTMSimple\")"
   ]
  },
  {
   "cell_type": "code",
   "execution_count": 5,
   "metadata": {},
   "outputs": [],
   "source": [
    "loadedModel.save(\"assets\\models\\LSTMSimple\",save_format=\"h5\")"
   ]
  },
  {
   "cell_type": "code",
   "execution_count": 35,
   "metadata": {},
   "outputs": [],
   "source": [
    "assert np.all(loadedModel.predict_classes(X_test) == y_pred)"
   ]
  },
  {
   "cell_type": "code",
   "execution_count": 1,
   "metadata": {},
   "outputs": [
    {
     "name": "stdout",
     "output_type": "stream",
     "text": [
      "absl-py==0.9.0\n",
      "alabaster==0.7.12\n",
      "anaconda-client==1.7.2\n",
      "anaconda-navigator==1.9.7\n",
      "anaconda-project==0.8.3\n",
      "asn1crypto==1.0.1\n",
      "astor==0.8.0\n",
      "astroid==2.3.1\n",
      "astropy==3.2.1\n",
      "astunparse==1.6.3\n",
      "atomicwrites==1.3.0\n",
      "attrs==19.2.0\n",
      "Babel==2.7.0\n",
      "backcall==0.1.0\n",
      "backports.functools-lru-cache==1.5\n",
      "backports.os==0.1.1\n",
      "backports.shutil-get-terminal-size==1.0.0\n",
      "backports.tempfile==1.0\n",
      "backports.weakref==1.0.post1\n",
      "beautifulsoup4==4.8.0\n",
      "bitarray==1.0.1\n",
      "bkcharts==0.2\n",
      "bleach==3.1.0\n",
      "blinker==1.4\n",
      "bokeh==1.3.4\n",
      "boto==2.49.0\n",
      "Bottleneck==1.2.1\n",
      "cachetools==3.1.1\n",
      "certifi==2019.9.11\n",
      "cffi==1.12.3\n",
      "chardet==3.0.4\n",
      "Click==7.0\n",
      "cloudpickle==1.2.2\n",
      "clyent==1.2.2\n",
      "colorama==0.4.1\n",
      "comtypes==1.1.7\n",
      "conda==4.8.3\n",
      "conda-build==3.18.9\n",
      "conda-package-handling==1.6.0\n",
      "conda-verify==3.4.2\n",
      "contextlib2==0.6.0\n",
      "cryptography==2.7\n",
      "cycler==0.10.0\n",
      "Cython==0.29.13\n",
      "cytoolz==0.10.0\n",
      "dask==2.5.2\n",
      "decorator==4.4.0\n",
      "defusedxml==0.6.0\n",
      "distributed==2.5.2\n",
      "docutils==0.15.2\n",
      "entrypoints==0.3\n",
      "et-xmlfile==1.0.1\n",
      "fastcache==1.1.0\n",
      "filelock==3.0.12\n",
      "Flask==1.1.1\n",
      "flatbuffers==1.12\n",
      "fsspec==0.5.2\n",
      "future==0.17.1\n",
      "gast==0.3.3\n",
      "gevent==1.4.0\n",
      "glob2==0.7\n",
      "google-auth==1.14.1\n",
      "google-auth-oauthlib==0.4.1\n",
      "google-pasta==0.2.0\n",
      "graphviz==0.16\n",
      "greenlet==0.4.15\n",
      "grpcio==1.29.0\n",
      "h5py==2.9.0\n",
      "HeapDict==1.0.1\n",
      "html5lib==1.0.1\n",
      "idna==2.8\n",
      "imageio==2.6.0\n",
      "imagesize==1.1.0\n",
      "importlib-metadata==0.23\n",
      "ipykernel==5.1.2\n",
      "ipython==7.8.0\n",
      "ipython-genutils==0.2.0\n",
      "ipywidgets==7.5.1\n",
      "isort==4.3.21\n",
      "itsdangerous==1.1.0\n",
      "jdcal==1.4.1\n",
      "jedi==0.15.1\n",
      "Jinja2==2.10.3\n",
      "joblib==0.13.2\n",
      "json5==0.8.5\n",
      "jsonschema==3.0.2\n",
      "jupyter==1.0.0\n",
      "jupyter-client==5.3.3\n",
      "jupyter-console==6.0.0\n",
      "jupyter-core==4.5.0\n",
      "jupyterlab==1.1.4\n",
      "jupyterlab-server==1.0.6\n",
      "Keras==2.3.1\n",
      "Keras-Applications==1.0.8\n",
      "Keras-Preprocessing==1.1.2\n",
      "keyring==18.0.0\n",
      "kiwisolver==1.1.0\n",
      "lazy-object-proxy==1.4.2\n",
      "libarchive-c==2.8\n",
      "llvmlite==0.29.0\n",
      "locket==0.2.0\n",
      "lxml==4.4.1\n",
      "Markdown==3.1.1\n",
      "MarkupSafe==1.1.1\n",
      "matplotlib==3.1.1\n",
      "mccabe==0.6.1\n",
      "menuinst==1.4.16\n",
      "mistune==0.8.4\n",
      "mkl-fft==1.0.14\n",
      "mkl-random==1.1.0\n",
      "mkl-service==2.3.0\n",
      "mock==3.0.5\n",
      "more-itertools==7.2.0\n",
      "mpmath==1.1.0\n",
      "msgpack==0.6.1\n",
      "multipledispatch==0.6.0\n",
      "navigator-updater==0.2.1\n",
      "nbconvert==5.6.0\n",
      "nbformat==4.4.0\n",
      "nbresuse==0.4.0\n",
      "networkx==2.3\n",
      "nltk==3.4.5\n",
      "nose==1.3.7\n",
      "notebook==6.0.1\n",
      "numba==0.45.1\n",
      "numexpr==2.7.0\n",
      "numpy==1.19.5\n",
      "numpydoc==0.9.1\n",
      "oauthlib==3.1.0\n",
      "olefile==0.46\n",
      "openpyxl==3.0.0\n",
      "opt-einsum==3.2.1\n",
      "packaging==19.2\n",
      "pandas==0.25.1\n",
      "pandocfilters==1.4.2\n",
      "parso==0.5.1\n",
      "partd==1.0.0\n",
      "path.py==12.0.1\n",
      "pathlib2==2.3.5\n",
      "patsy==0.5.1\n",
      "pep8==1.7.1\n",
      "pickleshare==0.7.5\n",
      "Pillow==6.2.0\n",
      "pkginfo==1.5.0.1\n",
      "pluggy==0.13.0\n",
      "ply==3.11\n",
      "prometheus-client==0.7.1\n",
      "prompt-toolkit==2.0.10\n",
      "protobuf==3.12.1\n",
      "psutil==5.6.3\n",
      "py==1.8.0\n",
      "pyasn1==0.4.8\n",
      "pyasn1-modules==0.2.7\n",
      "pycodestyle==2.5.0\n",
      "pycosat==0.6.3\n",
      "pycparser==2.19\n",
      "pycrypto==2.6.1\n",
      "pycurl==7.43.0.3\n",
      "pydot==1.4.1\n",
      "pydotplus==2.0.2\n",
      "pyflakes==2.1.1\n",
      "Pygments==2.4.2\n",
      "PyJWT==1.7.1\n",
      "pylint==2.4.2\n",
      "pyodbc==4.0.27\n",
      "pyOpenSSL==19.0.0\n",
      "pyparsing==2.4.2\n",
      "pyreadline==2.1\n",
      "pyrsistent==0.15.4\n",
      "PySocks==1.7.1\n",
      "pytest==5.2.1\n",
      "pytest-arraydiff==0.3\n",
      "pytest-astropy==0.5.0\n",
      "pytest-doctestplus==0.4.0\n",
      "pytest-openfiles==0.4.0\n",
      "pytest-remotedata==0.3.2\n",
      "python-dateutil==2.8.0\n",
      "pytz==2019.3\n",
      "PyWavelets==1.0.3\n",
      "pywin32==223\n",
      "pywinpty==0.5.5\n",
      "PyYAML==5.1.2\n",
      "pyzmq==18.1.0\n",
      "QtAwesome==0.6.0\n",
      "qtconsole==4.5.5\n",
      "QtPy==1.9.0\n",
      "requests==2.22.0\n",
      "requests-oauthlib==1.3.0\n",
      "rope==0.14.0\n",
      "rsa==4.0\n",
      "ruamel-yaml==0.15.46\n",
      "scikit-image==0.15.0\n",
      "scikit-learn==0.21.3\n",
      "scipy==1.4.1\n",
      "seaborn==0.9.0\n",
      "Send2Trash==1.5.0\n",
      "simplegeneric==0.8.1\n",
      "singledispatch==3.4.0.3\n",
      "six==1.15.0\n",
      "snowballstemmer==2.0.0\n",
      "sortedcollections==1.1.2\n",
      "sortedcontainers==2.1.0\n",
      "soupsieve==1.9.3\n",
      "Sphinx==2.2.0\n",
      "sphinxcontrib-applehelp==1.0.1\n",
      "sphinxcontrib-devhelp==1.0.1\n",
      "sphinxcontrib-htmlhelp==1.0.2\n",
      "sphinxcontrib-jsmath==1.0.1\n",
      "sphinxcontrib-qthelp==1.0.2\n",
      "sphinxcontrib-serializinghtml==1.1.3\n",
      "sphinxcontrib-websupport==1.1.2\n",
      "spyder==3.3.6\n",
      "spyder-kernels==0.5.2\n",
      "SQLAlchemy==1.3.9\n",
      "statsmodels==0.10.1\n",
      "sympy==1.4\n",
      "tables==3.5.2\n",
      "tblib==1.4.0\n",
      "tensorboard==2.1.0\n",
      "tensorflow==2.1.0\n",
      "tensorflow-estimator==2.2.0\n",
      "termcolor==1.1.0\n",
      "terminado==0.8.2\n",
      "testpath==0.4.2\n",
      "toolz==0.10.0\n",
      "tornado==6.0.3\n",
      "tqdm==4.36.1\n",
      "traitlets==4.3.3\n",
      "unicodecsv==0.14.1\n",
      "urllib3==1.24.2\n",
      "wcwidth==0.1.7\n",
      "webencodings==0.5.1\n",
      "Werkzeug==0.16.0\n",
      "widgetsnbextension==3.5.1\n",
      "win-inet-pton==1.1.0\n",
      "win-unicode-console==0.5\n",
      "wincertstore==0.2\n",
      "wrapt==1.11.2\n",
      "xlrd==1.2.0\n",
      "XlsxWriter==1.2.1\n",
      "xlwings==0.15.10\n",
      "xlwt==1.3.0\n",
      "zict==1.0.0\n",
      "zipp==0.6.0\n"
     ]
    },
    {
     "name": "stderr",
     "output_type": "stream",
     "text": [
      "WARNING: Could not generate requirement for distribution -umpy 1.16.5 (c:\\users\\sabri\\anaconda3\\lib\\site-packages): Parse error at \"'-umpy==1'\": Expected W:(abcd...)\n",
      "WARNING: Could not generate requirement for distribution -cipy 1.3.1 (c:\\users\\sabri\\anaconda3\\lib\\site-packages): Parse error at \"'-cipy==1'\": Expected W:(abcd...)\n"
     ]
    }
   ],
   "source": [
    "!pip freeze"
   ]
  }
 ],
 "metadata": {
  "kernelspec": {
   "display_name": "Python 3",
   "language": "python",
   "name": "python3"
  },
  "language_info": {
   "codemirror_mode": {
    "name": "ipython",
    "version": 3
   },
   "file_extension": ".py",
   "mimetype": "text/x-python",
   "name": "python",
   "nbconvert_exporter": "python",
   "pygments_lexer": "ipython3",
   "version": "3.7.4"
  }
 },
 "nbformat": 4,
 "nbformat_minor": 2
}
