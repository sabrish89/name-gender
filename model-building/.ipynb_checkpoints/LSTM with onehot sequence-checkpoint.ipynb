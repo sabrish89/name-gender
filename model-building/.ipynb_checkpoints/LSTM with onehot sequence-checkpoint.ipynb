{
 "cells": [
  {
   "cell_type": "code",
   "execution_count": 1,
   "metadata": {},
   "outputs": [],
   "source": [
    "import numpy as np\n",
    "import matplotlib.pyplot as plt\n",
    "from collections import Counter\n",
    "from more_itertools import padded\n",
    "import sys\n",
    "import math\n",
    "\n",
    "from IPython.display import Markdown as md"
   ]
  },
  {
   "cell_type": "markdown",
   "metadata": {},
   "source": [
    "## Read Data"
   ]
  },
  {
   "cell_type": "code",
   "execution_count": 2,
   "metadata": {},
   "outputs": [],
   "source": [
    "names = []\n",
    "nameasc = []\n",
    "genders = []\n",
    "probs = []\n",
    "maxlen = 0\n",
    "\n",
    "f = open(\"name_gender.csv\")\n",
    "data = f.readlines()\n",
    "f.close()\n",
    "for line in data:\n",
    "    name, gender, prob = line.split(',')\n",
    "    names.append(name.lower())\n",
    "    if name.__len__() > maxlen:\n",
    "        maxlen = name.__len__()\n",
    "    nameasc.append([ord(ch) for ch in name.lower()])\n",
    "    genders.append([1,0] if gender == 'M' else [0,1])\n",
    "    probs.append(np.float16(prob.strip(\"\\n\")))"
   ]
  },
  {
   "cell_type": "markdown",
   "metadata": {},
   "source": [
    "cleanup"
   ]
  },
  {
   "cell_type": "code",
   "execution_count": 3,
   "metadata": {},
   "outputs": [],
   "source": [
    "del name, data, gender, prob\n",
    "nameasc_ = nameasc.copy()"
   ]
  },
  {
   "cell_type": "markdown",
   "metadata": {},
   "source": [
    "## Arrayfy"
   ]
  },
  {
   "cell_type": "code",
   "execution_count": 4,
   "metadata": {},
   "outputs": [],
   "source": [
    "names = np.array(names)\n",
    "genders = np.array(genders, dtype=np.int8)\n",
    "probs = np.array(probs, dtype=np.float16)"
   ]
  },
  {
   "cell_type": "markdown",
   "metadata": {},
   "source": [
    "## Check alphabets"
   ]
  },
  {
   "cell_type": "code",
   "execution_count": 5,
   "metadata": {},
   "outputs": [],
   "source": [
    "alphabetsMale = ''\n",
    "alphabetsFeml = ''\n",
    "for name,gender in zip(names,genders):\n",
    "    if gender[0] > 0:\n",
    "        alphabetsMale += name\n",
    "    else:\n",
    "        alphabetsFeml += name\n",
    "alphabetsFeml = Counter(alphabetsFeml)\n",
    "alphabetsMale = Counter(alphabetsMale)"
   ]
  },
  {
   "cell_type": "markdown",
   "metadata": {},
   "source": [
    "Plot vowels"
   ]
  },
  {
   "cell_type": "code",
   "execution_count": 6,
   "metadata": {},
   "outputs": [],
   "source": [
    "vowels = ['a','e','i','o','u']\n",
    "maleVowel = {key: alphabetsMale[key] for key in alphabetsMale.keys() if key in vowels}\n",
    "maleVowel = {key: maleVowel[key] / sum(maleVowel.values()) for key in maleVowel.keys()}\n",
    "femlVowel = {key: alphabetsFeml[key] for key in alphabetsFeml.keys() if key in vowels}\n",
    "femlVowel = {key: femlVowel[key] / sum(femlVowel.values()) for key in femlVowel.keys()}"
   ]
  },
  {
   "cell_type": "code",
   "execution_count": 7,
   "metadata": {},
   "outputs": [
    {
     "data": {
      "text/plain": [
       "({'a': 0.3300480190701033,\n",
       "  'i': 0.1854292492292882,\n",
       "  'e': 0.25851221105470046,\n",
       "  'o': 0.1571335251040031,\n",
       "  'u': 0.06887699554190495},\n",
       " {'a': 0.4347808988764045,\n",
       "  'i': 0.2093876404494382,\n",
       "  'e': 0.2628595505617978,\n",
       "  'o': 0.06066292134831461,\n",
       "  'u': 0.03230898876404494})"
      ]
     },
     "execution_count": 7,
     "metadata": {},
     "output_type": "execute_result"
    }
   ],
   "source": [
    "maleVowel, femlVowel"
   ]
  },
  {
   "cell_type": "code",
   "execution_count": 8,
   "metadata": {},
   "outputs": [
    {
     "data": {
      "image/png": "[encoded data removed]",
      "text/plain": [
       "<Figure size 432x288 with 1 Axes>"
      ]
     },
     "metadata": {
      "needs_background": "light"
     },
     "output_type": "display_data"
    }
   ],
   "source": [
    "x = np.arange(len(maleVowel.keys()))\n",
    "width = 0.35\n",
    "fig, ax = plt.subplots()\n",
    "rects1 = ax.bar(x - width/2, maleVowel.values(), width, label='M')\n",
    "rects2 = ax.bar(x + width/2, femlVowel.values(), width, label='F')\n",
    "ax.set_ylabel('Vowel Frequency')\n",
    "ax.set_title('By gender')\n",
    "ax.set_xticks(x)\n",
    "ax.set_xticklabels(maleVowel.keys())\n",
    "ax.legend()\n",
    "plt.show()"
   ]
  },
  {
   "cell_type": "markdown",
   "metadata": {},
   "source": [
    "Females has more vowels of type a,i,e in her names while males has more vowels of type o,u in his name<br/>\n",
    "We can do much more analysis. This is just an introduction. But the intention here is to build a model"
   ]
  },
  {
   "cell_type": "markdown",
   "metadata": {},
   "source": [
    "cleanup"
   ]
  },
  {
   "cell_type": "code",
   "execution_count": 9,
   "metadata": {},
   "outputs": [],
   "source": [
    "del vowels, maleVowel, femlVowel, x, width, fig, ax, name, gender"
   ]
  },
  {
   "cell_type": "markdown",
   "metadata": {},
   "source": [
    "## Simple Features"
   ]
  },
  {
   "cell_type": "code",
   "execution_count": 14,
   "metadata": {},
   "outputs": [],
   "source": [
    "for idx in range(nameasc.__len__()):\n",
    "    nameasc[idx] = ( maxlen - nameasc[idx].__len__() ) * [0] + nameasc[idx]"
   ]
  },
  {
   "cell_type": "code",
   "execution_count": 15,
   "metadata": {},
   "outputs": [
    {
     "data": {
      "text/markdown": [
       "We see that 15 is the maximum name size. Thus we sequence a callback lookup for LSTM upto 15 alphabets"
      ],
      "text/plain": [
       "<IPython.core.display.Markdown object>"
      ]
     },
     "execution_count": 15,
     "metadata": {},
     "output_type": "execute_result"
    }
   ],
   "source": [
    "md(\"We see that %i is the maximum name size. Thus we sequence a callback lookup for LSTM upto 15 alphabets\"%(maxlen))"
   ]
  },
  {
   "cell_type": "code",
   "execution_count": 16,
   "metadata": {},
   "outputs": [],
   "source": [
    "nameasc = np.array(nameasc)"
   ]
  },
  {
   "cell_type": "code",
   "execution_count": 17,
   "metadata": {},
   "outputs": [
    {
     "data": {
      "text/plain": [
       "(97, 122)"
      ]
     },
     "execution_count": 17,
     "metadata": {},
     "output_type": "execute_result"
    }
   ],
   "source": [
    "nameasc[nameasc > 0].min(), nameasc[nameasc > 0].max()"
   ]
  },
  {
   "cell_type": "code",
   "execution_count": 18,
   "metadata": {},
   "outputs": [],
   "source": [
    "assert alphabetsFeml.__len__() == alphabetsMale.__len__()"
   ]
  },
  {
   "cell_type": "code",
   "execution_count": 19,
   "metadata": {},
   "outputs": [],
   "source": [
    "nameasc -= 96\n",
    "indx = (nameasc < 0)"
   ]
  },
  {
   "cell_type": "code",
   "execution_count": 20,
   "metadata": {},
   "outputs": [],
   "source": [
    "nameasc[indx] = 0"
   ]
  },
  {
   "cell_type": "code",
   "execution_count": 21,
   "metadata": {},
   "outputs": [
    {
     "data": {
      "text/plain": [
       "array([[ 0,  0,  0, ...,  2,  1, 14],\n",
       "       [ 0,  0,  0, ...,  2,  8,  1],\n",
       "       [ 0,  0,  0, ...,  2,  9,  4],\n",
       "       ...,\n",
       "       [ 0,  0,  0, ..., 14, 14,  1],\n",
       "       [ 0,  0,  0, ..., 25, 15, 14],\n",
       "       [ 0,  0,  0, ..., 25, 26, 24]])"
      ]
     },
     "execution_count": 21,
     "metadata": {},
     "output_type": "execute_result"
    }
   ],
   "source": [
    "nameasc"
   ]
  },
  {
   "cell_type": "code",
   "execution_count": 22,
   "metadata": {},
   "outputs": [
    {
     "data": {
      "text/plain": [
       "(95025, 15)"
      ]
     },
     "execution_count": 22,
     "metadata": {},
     "output_type": "execute_result"
    }
   ],
   "source": [
    "nameasc.shape"
   ]
  },
  {
   "cell_type": "markdown",
   "metadata": {},
   "source": [
    "We will now expand the 15 len rows to 27 * 15 tensor"
   ]
  },
  {
   "cell_type": "code",
   "execution_count": 23,
   "metadata": {},
   "outputs": [],
   "source": [
    "tensorasc = []\n",
    "for ascname in nameasc:\n",
    "    tensornm = []\n",
    "    for num in ascname:\n",
    "        tmparr = [0]*27\n",
    "        tmparr[num] = 1\n",
    "        tensornm.append(tmparr)\n",
    "    tensorasc.append(tensornm)\n",
    "tensorasc = np.array(tensorasc)"
   ]
  },
  {
   "cell_type": "code",
   "execution_count": 24,
   "metadata": {},
   "outputs": [
    {
     "data": {
      "text/plain": [
       "array([[[1, 0, 0, ..., 0, 0, 0],\n",
       "        [1, 0, 0, ..., 0, 0, 0],\n",
       "        [1, 0, 0, ..., 0, 0, 0],\n",
       "        ...,\n",
       "        [0, 0, 1, ..., 0, 0, 0],\n",
       "        [0, 1, 0, ..., 0, 0, 0],\n",
       "        [0, 0, 0, ..., 0, 0, 0]],\n",
       "\n",
       "       [[1, 0, 0, ..., 0, 0, 0],\n",
       "        [1, 0, 0, ..., 0, 0, 0],\n",
       "        [1, 0, 0, ..., 0, 0, 0],\n",
       "        ...,\n",
       "        [0, 0, 1, ..., 0, 0, 0],\n",
       "        [0, 0, 0, ..., 0, 0, 0],\n",
       "        [0, 1, 0, ..., 0, 0, 0]],\n",
       "\n",
       "       [[1, 0, 0, ..., 0, 0, 0],\n",
       "        [1, 0, 0, ..., 0, 0, 0],\n",
       "        [1, 0, 0, ..., 0, 0, 0],\n",
       "        ...,\n",
       "        [0, 0, 1, ..., 0, 0, 0],\n",
       "        [0, 0, 0, ..., 0, 0, 0],\n",
       "        [0, 0, 0, ..., 0, 0, 0]],\n",
       "\n",
       "       ...,\n",
       "\n",
       "       [[1, 0, 0, ..., 0, 0, 0],\n",
       "        [1, 0, 0, ..., 0, 0, 0],\n",
       "        [1, 0, 0, ..., 0, 0, 0],\n",
       "        ...,\n",
       "        [0, 0, 0, ..., 0, 0, 0],\n",
       "        [0, 0, 0, ..., 0, 0, 0],\n",
       "        [0, 1, 0, ..., 0, 0, 0]],\n",
       "\n",
       "       [[1, 0, 0, ..., 0, 0, 0],\n",
       "        [1, 0, 0, ..., 0, 0, 0],\n",
       "        [1, 0, 0, ..., 0, 0, 0],\n",
       "        ...,\n",
       "        [0, 0, 0, ..., 0, 1, 0],\n",
       "        [0, 0, 0, ..., 0, 0, 0],\n",
       "        [0, 0, 0, ..., 0, 0, 0]],\n",
       "\n",
       "       [[1, 0, 0, ..., 0, 0, 0],\n",
       "        [1, 0, 0, ..., 0, 0, 0],\n",
       "        [1, 0, 0, ..., 0, 0, 0],\n",
       "        ...,\n",
       "        [0, 0, 0, ..., 0, 1, 0],\n",
       "        [0, 0, 0, ..., 0, 0, 1],\n",
       "        [0, 0, 0, ..., 1, 0, 0]]])"
      ]
     },
     "execution_count": 24,
     "metadata": {},
     "output_type": "execute_result"
    }
   ],
   "source": [
    "tensorasc"
   ]
  },
  {
   "cell_type": "markdown",
   "metadata": {},
   "source": [
    "## Test Train Split"
   ]
  },
  {
   "cell_type": "code",
   "execution_count": 25,
   "metadata": {},
   "outputs": [],
   "source": [
    "np.random.seed(42)\n",
    "test_indices = np.random.choice(range(names.__len__()), math.ceil(0.3*names.__len__()), replace=False)"
   ]
  },
  {
   "cell_type": "code",
   "execution_count": 26,
   "metadata": {},
   "outputs": [],
   "source": [
    "vald_indices = np.random.choice(test_indices, math.ceil(0.5*test_indices.__len__()), replace=False)"
   ]
  },
  {
   "cell_type": "code",
   "execution_count": 27,
   "metadata": {},
   "outputs": [],
   "source": [
    "X_test = tensorasc[test_indices]\n",
    "Y_test = genders[test_indices]"
   ]
  },
  {
   "cell_type": "code",
   "execution_count": 28,
   "metadata": {},
   "outputs": [],
   "source": [
    "X_vald = tensorasc[vald_indices]\n",
    "Y_vald = genders[vald_indices]"
   ]
  },
  {
   "cell_type": "code",
   "execution_count": 29,
   "metadata": {},
   "outputs": [],
   "source": [
    "X_train = tensorasc[~test_indices]\n",
    "Y_train = genders[~test_indices]"
   ]
  },
  {
   "cell_type": "markdown",
   "metadata": {},
   "source": [
    "## Model"
   ]
  },
  {
   "cell_type": "code",
   "execution_count": 5,
   "metadata": {},
   "outputs": [
    {
     "name": "stderr",
     "output_type": "stream",
     "text": [
      "Using TensorFlow backend.\n"
     ]
    }
   ],
   "source": [
    "from keras.layers.core import Dense, Activation, Dropout\n",
    "from keras.preprocessing import sequence\n",
    "from keras.models import Sequential\n",
    "from keras.layers import Dense, Embedding\n",
    "from keras.layers import LSTM"
   ]
  },
  {
   "cell_type": "code",
   "execution_count": 31,
   "metadata": {},
   "outputs": [],
   "source": [
    "model = Sequential()\n",
    "model.add(LSTM(270, return_sequences=False, input_shape=(15, 27)))\n",
    "model.add(Dropout(0.15))\n",
    "model.add(Dense(units=2))\n",
    "model.add(Activation('softmax'))\n",
    "model.compile(loss='categorical_crossentropy', optimizer='adam', metrics=['acc'])"
   ]
  },
  {
   "cell_type": "code",
   "execution_count": 32,
   "metadata": {},
   "outputs": [
    {
     "name": "stdout",
     "output_type": "stream",
     "text": [
      "Train on 28508 samples, validate on 14254 samples\n",
      "Epoch 1/50\n",
      "28508/28508 [==============================] - 14s 496us/step - loss: 0.6156 - acc: 0.6522 - val_loss: 0.5624 - val_acc: 0.7159\n",
      "Epoch 2/50\n",
      "28508/28508 [==============================] - 12s 405us/step - loss: 0.5090 - acc: 0.7521 - val_loss: 0.4419 - val_acc: 0.7904\n",
      "Epoch 3/50\n",
      "28508/28508 [==============================] - 11s 396us/step - loss: 0.4153 - acc: 0.8106 - val_loss: 0.3955 - val_acc: 0.8199\n",
      "Epoch 4/50\n",
      "28508/28508 [==============================] - 11s 382us/step - loss: 0.3933 - acc: 0.8246 - val_loss: 0.3915 - val_acc: 0.8274\n",
      "Epoch 5/50\n",
      "28508/28508 [==============================] - 13s 454us/step - loss: 0.3868 - acc: 0.8279 - val_loss: 0.3841 - val_acc: 0.8276\n",
      "Epoch 6/50\n",
      "28508/28508 [==============================] - 14s 488us/step - loss: 0.3810 - acc: 0.8316 - val_loss: 0.3763 - val_acc: 0.8317\n",
      "Epoch 7/50\n",
      "28508/28508 [==============================] - 13s 446us/step - loss: 0.3776 - acc: 0.8324 - val_loss: 0.3746 - val_acc: 0.8324\n",
      "Epoch 8/50\n",
      "28508/28508 [==============================] - 12s 406us/step - loss: 0.3752 - acc: 0.8335 - val_loss: 0.3733 - val_acc: 0.8317\n",
      "Epoch 9/50\n",
      "28508/28508 [==============================] - 13s 458us/step - loss: 0.3719 - acc: 0.8343 - val_loss: 0.3721 - val_acc: 0.8337\n",
      "Epoch 10/50\n",
      "28508/28508 [==============================] - 11s 401us/step - loss: 0.3697 - acc: 0.8360 - val_loss: 0.3680 - val_acc: 0.8356\n",
      "Epoch 11/50\n",
      "28508/28508 [==============================] - 12s 416us/step - loss: 0.3665 - acc: 0.8373 - val_loss: 0.3653 - val_acc: 0.8370\n",
      "Epoch 12/50\n",
      "28508/28508 [==============================] - 12s 427us/step - loss: 0.3650 - acc: 0.8373 - val_loss: 0.3670 - val_acc: 0.8342\n",
      "Epoch 13/50\n",
      "28508/28508 [==============================] - 11s 399us/step - loss: 0.3629 - acc: 0.8389 - val_loss: 0.3642 - val_acc: 0.8384\n",
      "Epoch 14/50\n",
      "28508/28508 [==============================] - 12s 417us/step - loss: 0.3583 - acc: 0.8425 - val_loss: 0.3597 - val_acc: 0.8395\n",
      "Epoch 15/50\n",
      "28508/28508 [==============================] - 12s 418us/step - loss: 0.3572 - acc: 0.8415 - val_loss: 0.3549 - val_acc: 0.8424\n",
      "Epoch 16/50\n",
      "28508/28508 [==============================] - 12s 413us/step - loss: 0.3524 - acc: 0.8430 - val_loss: 0.3491 - val_acc: 0.8448\n",
      "Epoch 17/50\n",
      "28508/28508 [==============================] - 12s 414us/step - loss: 0.3459 - acc: 0.8477 - val_loss: 0.3450 - val_acc: 0.8490\n",
      "Epoch 18/50\n",
      "28508/28508 [==============================] - 12s 420us/step - loss: 0.3431 - acc: 0.8500 - val_loss: 0.3413 - val_acc: 0.8508\n",
      "Epoch 19/50\n",
      "28508/28508 [==============================] - 12s 413us/step - loss: 0.3398 - acc: 0.8503 - val_loss: 0.3371 - val_acc: 0.8522\n",
      "Epoch 20/50\n",
      "28508/28508 [==============================] - 12s 409us/step - loss: 0.3341 - acc: 0.8511 - val_loss: 0.3334 - val_acc: 0.8534\n",
      "Epoch 21/50\n",
      "28508/28508 [==============================] - 12s 419us/step - loss: 0.3308 - acc: 0.8547 - val_loss: 0.3306 - val_acc: 0.8562\n",
      "Epoch 22/50\n",
      "28508/28508 [==============================] - 12s 421us/step - loss: 0.3258 - acc: 0.8550 - val_loss: 0.3265 - val_acc: 0.8553\n",
      "Epoch 23/50\n",
      "28508/28508 [==============================] - 11s 394us/step - loss: 0.3228 - acc: 0.8583 - val_loss: 0.3257 - val_acc: 0.8575\n",
      "Epoch 24/50\n",
      "28508/28508 [==============================] - 13s 458us/step - loss: 0.3203 - acc: 0.8597 - val_loss: 0.3242 - val_acc: 0.8565\n",
      "Epoch 25/50\n",
      "28508/28508 [==============================] - 13s 465us/step - loss: 0.3146 - acc: 0.8639 - val_loss: 0.3195 - val_acc: 0.8593\n",
      "Epoch 26/50\n",
      "28508/28508 [==============================] - 13s 441us/step - loss: 0.3109 - acc: 0.8647 - val_loss: 0.3132 - val_acc: 0.8623\n",
      "Epoch 27/50\n",
      "28508/28508 [==============================] - 12s 418us/step - loss: 0.3047 - acc: 0.8681 - val_loss: 0.3153 - val_acc: 0.8612\n",
      "Epoch 28/50\n",
      "28508/28508 [==============================] - 12s 435us/step - loss: 0.3032 - acc: 0.8687 - val_loss: 0.3139 - val_acc: 0.8628\n",
      "Epoch 29/50\n",
      "28508/28508 [==============================] - 12s 404us/step - loss: 0.3011 - acc: 0.8701 - val_loss: 0.3115 - val_acc: 0.8640\n",
      "Epoch 30/50\n",
      "28508/28508 [==============================] - 12s 424us/step - loss: 0.2996 - acc: 0.8697 - val_loss: 0.3055 - val_acc: 0.8663\n",
      "Epoch 31/50\n",
      "28508/28508 [==============================] - 13s 467us/step - loss: 0.2922 - acc: 0.8745 - val_loss: 0.3042 - val_acc: 0.8693\n",
      "Epoch 32/50\n",
      "28508/28508 [==============================] - 13s 466us/step - loss: 0.2874 - acc: 0.8762 - val_loss: 0.3031 - val_acc: 0.8675\n",
      "Epoch 33/50\n",
      "28508/28508 [==============================] - 13s 442us/step - loss: 0.2849 - acc: 0.8789 - val_loss: 0.3046 - val_acc: 0.8665\n",
      "Epoch 34/50\n",
      "28508/28508 [==============================] - 12s 416us/step - loss: 0.2800 - acc: 0.8811 - val_loss: 0.2961 - val_acc: 0.8691\n",
      "Epoch 35/50\n",
      "28508/28508 [==============================] - 12s 420us/step - loss: 0.2790 - acc: 0.8799 - val_loss: 0.2936 - val_acc: 0.8750\n",
      "Epoch 36/50\n",
      "28508/28508 [==============================] - 13s 450us/step - loss: 0.2722 - acc: 0.8846 - val_loss: 0.2935 - val_acc: 0.8735\n",
      "Epoch 37/50\n",
      "28508/28508 [==============================] - 12s 406us/step - loss: 0.2718 - acc: 0.8855 - val_loss: 0.2872 - val_acc: 0.8774\n",
      "Epoch 38/50\n",
      "28508/28508 [==============================] - 12s 411us/step - loss: 0.2674 - acc: 0.8862 - val_loss: 0.2895 - val_acc: 0.8760\n",
      "Epoch 39/50\n",
      "28508/28508 [==============================] - 11s 387us/step - loss: 0.2636 - acc: 0.8894 - val_loss: 0.2893 - val_acc: 0.8763\n",
      "Epoch 40/50\n",
      "28508/28508 [==============================] - 12s 410us/step - loss: 0.2603 - acc: 0.8890 - val_loss: 0.2907 - val_acc: 0.8751\n",
      "Epoch 41/50\n",
      "28508/28508 [==============================] - 11s 379us/step - loss: 0.2578 - acc: 0.8910 - val_loss: 0.2813 - val_acc: 0.8789\n",
      "Epoch 42/50\n",
      "28508/28508 [==============================] - 11s 379us/step - loss: 0.2537 - acc: 0.8928 - val_loss: 0.2840 - val_acc: 0.8795\n",
      "Epoch 43/50\n",
      "28508/28508 [==============================] - 15s 510us/step - loss: 0.2519 - acc: 0.8943 - val_loss: 0.2768 - val_acc: 0.8816\n",
      "Epoch 44/50\n",
      "28508/28508 [==============================] - 15s 514us/step - loss: 0.2477 - acc: 0.8951 - val_loss: 0.2792 - val_acc: 0.8818\n",
      "Epoch 45/50\n",
      "28508/28508 [==============================] - 15s 513us/step - loss: 0.2428 - acc: 0.8985 - val_loss: 0.2799 - val_acc: 0.8824\n",
      "Epoch 46/50\n",
      "28508/28508 [==============================] - 14s 508us/step - loss: 0.2406 - acc: 0.8977 - val_loss: 0.2731 - val_acc: 0.8816\n",
      "Epoch 47/50\n",
      "28508/28508 [==============================] - 15s 515us/step - loss: 0.2361 - acc: 0.9005 - val_loss: 0.2755 - val_acc: 0.8845\n",
      "Epoch 48/50\n",
      "28508/28508 [==============================] - 15s 509us/step - loss: 0.2309 - acc: 0.9027 - val_loss: 0.2736 - val_acc: 0.8852\n",
      "Epoch 49/50\n",
      "28508/28508 [==============================] - 15s 514us/step - loss: 0.2283 - acc: 0.9039 - val_loss: 0.2729 - val_acc: 0.8847\n",
      "Epoch 50/50\n",
      "28508/28508 [==============================] - 15s 514us/step - loss: 0.2240 - acc: 0.9055 - val_loss: 0.2723 - val_acc: 0.8869\n"
     ]
    },
    {
     "data": {
      "text/plain": [
       "<keras.callbacks.callbacks.History at 0x192028cf908>"
      ]
     },
     "execution_count": 32,
     "metadata": {},
     "output_type": "execute_result"
    }
   ],
   "source": [
    "model.fit(X_train, Y_train, batch_size=1000, epochs=50, validation_data=(X_vald, Y_vald))"
   ]
  },
  {
   "cell_type": "code",
   "execution_count": 33,
   "metadata": {},
   "outputs": [],
   "source": [
    "y_pred = model.predict_classes(X_test)"
   ]
  },
  {
   "cell_type": "code",
   "execution_count": 34,
   "metadata": {},
   "outputs": [],
   "source": [
    "y_test = ( Y_test[:,1] > 0 ) * 1"
   ]
  },
  {
   "cell_type": "code",
   "execution_count": 35,
   "metadata": {},
   "outputs": [
    {
     "name": "stdout",
     "output_type": "stream",
     "text": [
      "[[ 8836  1614]\n",
      " [ 1513 16545]]\n"
     ]
    }
   ],
   "source": [
    "from sklearn.metrics import confusion_matrix, precision_score, recall_score, f1_score, accuracy_score\n",
    "print(confusion_matrix(y_test, y_pred))"
   ]
  },
  {
   "cell_type": "code",
   "execution_count": 36,
   "metadata": {},
   "outputs": [
    {
     "name": "stdout",
     "output_type": "stream",
     "text": [
      "Precision: 0.9111184536593425\n",
      "Recall:    0.9162144202015727\n",
      "F1:        0.9136593312532789\n",
      "Accuracy:  0.8903114915111547\n"
     ]
    }
   ],
   "source": [
    "print(f\"Precision: {precision_score(y_test, y_pred)}\\nRecall:    {recall_score(y_test,y_pred)}\\nF1:        {f1_score(y_test, y_pred)}\\nAccuracy:  {accuracy_score(y_test, y_pred)}\")"
   ]
  },
  {
   "cell_type": "markdown",
   "metadata": {},
   "source": [
    "<b>This is tolerable since for just $~ 14*50 = 700$ secs $< 12$ mins on CPU, we get an F1 of 0.91 and and accuracy of 0.89<br/><br/>Thus we get a good balance of ease of training due to light model and decent performance</b>"
   ]
  },
  {
   "cell_type": "code",
   "execution_count": 37,
   "metadata": {},
   "outputs": [],
   "source": [
    "model.save(\"assets\\models\\LSTMSimple\")"
   ]
  },
  {
   "cell_type": "code",
   "execution_count": 38,
   "metadata": {},
   "outputs": [],
   "source": [
    "from tensorflow.keras.models import load_model\n",
    "loadedModel = load_model(\"assets\\models\\LSTMSimple\")"
   ]
  },
  {
   "cell_type": "code",
   "execution_count": 39,
   "metadata": {},
   "outputs": [],
   "source": [
    "assert np.all(loadedModel.predict_classes(X_test) == y_pred)"
   ]
  }
 ],
 "metadata": {
  "kernelspec": {
   "display_name": "Python 3",
   "language": "python",
   "name": "python3"
  },
  "language_info": {
   "codemirror_mode": {
    "name": "ipython",
    "version": 3
   },
   "file_extension": ".py",
   "mimetype": "text/x-python",
   "name": "python",
   "nbconvert_exporter": "python",
   "pygments_lexer": "ipython3",
   "version": "3.7.4"
  }
 },
 "nbformat": 4,
 "nbformat_minor": 2
}
